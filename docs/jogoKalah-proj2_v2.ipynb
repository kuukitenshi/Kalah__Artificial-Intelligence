{
 "cells": [
  {
   "cell_type": "markdown",
   "metadata": {},
   "source": [
    "# <span style=\"color:blue\"> *Torneio Alfabeta Kalah*</span>\n",
    "## Introdução à Inteligência Artificial (2023-24)\n",
    "### 3º Projecto\n",
    "\n",
    "<img src=\"Imagens/uiuimancala.png\" alt=\"Drawing\" style=\"width: 200px;\"/>"
   ]
  },
  {
   "cell_type": "markdown",
   "metadata": {},
   "source": [
    "## O Kalah\n",
    "\n",
    "É quase certo que a maior parte de voçês já ouviu falar ou jogou o [Kalah](https://en.wikipedia.org/wiki/Kalah), que é uma variante moderna da família de jogos Mancala, criado em 1940 por William Champion, mas com origens muito antigas e que aparece numa explosão de ludo-diversidade em vários continentes e culturas.\n",
    "\n",
    "<img src=\"Imagens/mancalaAreia.jpg\" alt=\"Drawing\" style=\"width: 200px;\"/>\n"
   ]
  },
  {
   "cell_type": "markdown",
   "metadata": {},
   "source": [
    "### Como funciona o jogo? \n",
    "\n",
    "<img src=\"Imagens/kalahBoard.png\" alt=\"Drawing\" style=\"width: 400px;\"/>\n",
    "\n",
    "\n",
    "#### Materiais:\n",
    "O Mancala (a.k.a. Kalah) é jogado por dois jogadores: o Sul e o Norte, que jogam alternadamente num tabuleiro rectangular (ver a figura de cima) com 6 poços para cada jogador e um poço maior ou armazém que se chama de kalah e que fica à direita de cada jogador. As etiquetas dos poços (carregadas com barras se forem do jogador NORTE) correspondem à distância no sentido horário a que se encontram do kalah do jogador respectivo.\n",
    "\n",
    "\n",
    "#### Tabuleiro inicial\n",
    "No tabuleiro inicial standard, cada jogador começa com 4 peças (a.k.a sementes) em cada um dos seus 6 poços e ambos os kalahs vazios.\n",
    "\n",
    "#### Jogada\n",
    "Quando chega a sua vez, o jogador selecciona um dos poços com sementes, remove-as desse poço e começa a redistribuí-las (semeá-las) no sentido anti-horário, deixando uma semente por poço (seu ou do seu adversário) e pelo respectivo kalah, saltando o kalah do adversário. Se a última semente cair no seu kalah, volta a jogar, senão é a vez do adversário.\n",
    "\n",
    "Se a última semente cair no seu lado num poço vazio então captura esse peça e as do poço do adversário que se encontra mesmo em frente, depositando-as no seu kalah.\n",
    "\n",
    "Os kalahs são armazéns de sementes das quais as sementes nunca mais saiem e serão importantes para determinar o vencedor.\n",
    "\n",
    "\n",
    "#### Fim do jogo\n",
    "O jogo acaba quando, no final de uma jogada, o jogador não tiver mais sementes nos seus 6 poços. Nesse caso, o adversário captura todas as sementes do seu lado, depositando-as no seu kalah.\n",
    "\n",
    "#### O vencedor\n",
    "Após o final do jogo, o jogador que tenha mais peças no respectivo kalah ganha. Pode acontecer um empate se ambos acabarem com 24 sementes.\n",
    "\n",
    "Eis um [video com a apresentação das regras](http://modelai.gettysburg.edu/2022/fairkalah/mancala-rules.mp4) (5:52) e  [um jogo completo de demonstração](http://modelai.gettysburg.edu/2022/fairkalah/mancala-game.mp4)(6:20)"
   ]
  },
  {
   "cell_type": "markdown",
   "metadata": {},
   "source": [
    "### O Kalah Injusto\n",
    "A partir do tabuleiro inicial standard é possível a jogada perfeita, fazendo com que o jogador SUL que abre o jogo ganhe 29 a 19 mesmo que o jogador NORTE jogue também de forma óptima, resistindo o melhor possível. Assim o kalah é um jogo \"injusto\", dando vantagem ao primeiro jogador."
   ]
  },
  {
   "cell_type": "markdown",
   "metadata": {},
   "source": [
    "### O Kalah Justo\n",
    "Todd Neller e Taylor Neller encontraram um conjunto de 254 tabuleiros iniciais em que o jogo perfeito resulta num empate. A essa variante do jogo que começa com tabuleiros iniciais justos chamaram de KalahJusto.\n",
    "Temos o conjunto de 254 tabuleiros no ficheiro anexo `fair-kalahs.py`."
   ]
  },
  {
   "cell_type": "markdown",
   "metadata": {},
   "source": [
    "## Objectivos do projecto\n",
    "Pretende-se que dada uma formulação e implementação do jogo, os grupos de alunos:\n",
    "\n",
    "1. Criem um jogador, que corresponde a uma função de avaliação a ser usada pelo algoritmo alfa-beta para qualquer profundidade, par ou ímpar. Aconselhamos que adoptem o paradigma \"anytime\", i.e. que desenvolvam várias versões do jogador, começando com um jogador simples sendo progressivamente melhorado, de modo a que tenham um jogador disponível na data limite. Desenvolvam e comparem o desempenho de vários jogadores, para diferentes limites de profundidade e depois seleccionem o melhor deles.\n",
    "<br><br>\n",
    "O jogador seleccionado será utilizado num campeonato, de todos contra todos, i.e. cada jogador do grupo irá jogar vários jogos contra todos os dos outros grupos cada nível de profundidade. Nesse campeonato, iremos seleccionar um dos tabuleiros justos ao acaso e todo os jogos de cada torneio (um torneio para um limite de profundidade diferente) começarão com esse tabuleiro justo. Nós próprios entraremos no campeonato com um jogador simples, o <span style=\"color:blue\"> ***Chapiteau***. </span>\n",
    "\n",
    "<img src=\"Imagens\\theStrongestMan.gif\" alt=\"Drawing\" style=\"width: 200px;\"/>\n",
    "\n",
    "<span style=\"color:blue\"> **Chapiteau**. </span>: tenta maximizar a diferença entre o número das suas sementes (no 6 poços e armazém) e as do seu adversário quando o jogo não é final. Quando o jogo é final, +100 para a vitória, -100 para a derrota e 0 para o empate."
   ]
  },
  {
   "cell_type": "markdown",
   "metadata": {},
   "source": [
    "## Formulação do Kalah em pyhton\n",
    "\n",
    "<img src=\"Imagens\\python.gif\" alt=\"Drawing\" style=\"width: 150px;\"/>\n",
    "\n",
    "Vamos descrever de modo sumário como está modelizado o jogo do Kalah, através das classes `KalahState` e `Kalah` que estão em `kalah.py`."
   ]
  },
  {
   "cell_type": "markdown",
   "metadata": {},
   "source": [
    "### O estado do jogo\n",
    "Na classe `KalahState` temos três atributos principais:\n",
    "\n",
    "* `to_move`: que indica quem é o próximo a jogar (0 se for o SUL e 1 se for o NORTE)\n",
    "* `pass_turn`: com um valor booleano que indica se o próximo jogador passa ou não. \n",
    "* `state`: que é uma lista com 14 elementos, com a sequência de números, correspondendo ao número de sementes nos poços e kalahs, pela ordem anti-horária a começar pelo fundo à esquerda: a posição 0 da lista representa o poço 6 do SUL, a posição 6 corresponde ao kalah do SUL, a posição 7 corresponde ao poço 1 do NORTE e a posição 13 será o kalah do NORTE.\n",
    "\n",
    "Fazemos um parêntesis para apresentar as acções possíveis.\n",
    "\n",
    "### (As acções)\n",
    "As acções, são na verdade representadas pelo indíce da lista (state) correspondente ao poço que se quer pegar ou então -1 se for 'passo' porque o adversário volta a jogar. O jogador SUL só poderá jogar as acções em {-1,0,1,2,3,4,5} e o jogador NORTE as acções de {-1,7,8,9,10,11,12}.\n",
    "\n",
    "Regressemos à implementação do estado."
   ]
  },
  {
   "cell_type": "markdown",
   "metadata": {},
   "source": [
    "#### O construtor \n",
    "...recebe no máximo 2 argumentos. O `fairkalah_state_index` para indicar se queremos jogar (-1) com o tabuleiro standard, com um dos tabuleiros justos (=0) escolhido ao acaso ou com um determinado tabuleiro justo (>0); o `other` que indica se queremos começar por um tabuleiro específico que passamos como um tuplo $(proximo\\_a\\_jogar,listaSementes)$. Em qualquer caso o atributo `pass_turn` começa a False.\n",
    "\n",
    "Vejemos alguns exemplos, após importarmos `kalah.py` o qual por sua vez importa todos os kalahs justos de `fairKalahs.py`, em que vamos fazer uso da versão string do estado definida em `__str__`."
   ]
  },
  {
   "cell_type": "code",
   "execution_count": 1,
   "metadata": {},
   "outputs": [],
   "source": [
    "from kalah import *"
   ]
  },
  {
   "cell_type": "markdown",
   "metadata": {},
   "source": [
    "Criemos o tabuleiro inicial standard:"
   ]
  },
  {
   "cell_type": "code",
   "execution_count": 2,
   "metadata": {},
   "outputs": [
    {
     "data": {
      "text/plain": [
       "     _  _  _  _  _  _\n",
       "     1  2  3  4  5  6\n",
       "-------------------------\n",
       "|  | 4| 4| 4| 4| 4| 4|  |\n",
       "| 0|-----------------| 0|\n",
       "|  | 4| 4| 4| 4| 4| 4|  | <--\n",
       "-------------------------\n",
       "     6  5  4  3  2  1"
      ]
     },
     "execution_count": 2,
     "metadata": {},
     "output_type": "execute_result"
    }
   ],
   "source": [
    "mx=KalahState()\n",
    "mx"
   ]
  },
  {
   "cell_type": "markdown",
   "metadata": {},
   "source": [
    "Geremos um tabuleiro inicial justo, por exemplo o 56:"
   ]
  },
  {
   "cell_type": "code",
   "execution_count": 3,
   "metadata": {},
   "outputs": [
    {
     "data": {
      "text/plain": [
       "     _  _  _  _  _  _\n",
       "     1  2  3  4  5  6\n",
       "-------------------------\n",
       "|  | 4| 4| 4| 3| 4| 4|  |\n",
       "| 0|-----------------| 0|\n",
       "|  | 3| 5| 4| 4| 4| 5|  | <--\n",
       "-------------------------\n",
       "     6  5  4  3  2  1"
      ]
     },
     "execution_count": 3,
     "metadata": {},
     "output_type": "execute_result"
    }
   ],
   "source": [
    "mx=KalahState(56)\n",
    "mx"
   ]
  },
  {
   "cell_type": "markdown",
   "metadata": {},
   "source": [
    "Podemos também gerar um dos justo ao acaso (podem disparar o run várias vezes):"
   ]
  },
  {
   "cell_type": "code",
   "execution_count": 22,
   "metadata": {},
   "outputs": [
    {
     "data": {
      "text/plain": [
       "     _  _  _  _  _  _\n",
       "     1  2  3  4  5  6\n",
       "-------------------------\n",
       "|  | 4| 5| 4| 3| 4| 4|  |\n",
       "| 0|-----------------| 0|\n",
       "|  | 3| 5| 4| 4| 4| 4|  | <--\n",
       "-------------------------\n",
       "     6  5  4  3  2  1"
      ]
     },
     "execution_count": 22,
     "metadata": {},
     "output_type": "execute_result"
    }
   ],
   "source": [
    "mx=KalahState(0)\n",
    "mx"
   ]
  },
  {
   "cell_type": "markdown",
   "metadata": {},
   "source": [
    "Ou podemos gerar um tabuleiro explicitamente, que até pode ser um tabuleiro impossível de acontecer num jogo mas que pode servir para testarem a função de avaliação:"
   ]
  },
  {
   "cell_type": "code",
   "execution_count": 5,
   "metadata": {},
   "outputs": [
    {
     "data": {
      "text/plain": [
       "     _  _  _  _  _  _\n",
       "     1  2  3  4  5  6\n",
       "-------------------------\n",
       "|  | 4| 4| 4| 4| 4| 4|  |\n",
       "| 3|-----------------| 0|\n",
       "|  | 6| 5| 4| 3| 2| 1|  | <--\n",
       "-------------------------\n",
       "     6  5  4  3  2  1"
      ]
     },
     "execution_count": 5,
     "metadata": {},
     "output_type": "execute_result"
    }
   ],
   "source": [
    "mx=KalahState(other=(0,[6,5,4,3,2,1,0,4,4,4,4,4,4,3]))\n",
    "mx"
   ]
  },
  {
   "cell_type": "markdown",
   "metadata": {},
   "source": [
    "#### Os métodos de KalahState\n",
    "Eis o que fazem as funções mais importantes:\n",
    "\n",
    "* `get_legal_moves` que devolve todas as acções válidas ordenadas por ordem crescente.\n",
    "* `is_game_over` que verifica se o jogo chegou ao fim.\n",
    "* `result` que determina o resultado de um jogo finalizado: +1 se ganha o SUL, -1 se ganha o NORTE ou 0 em caso de empate.\n",
    "* `real_move` que gera um novo estado com base na acção."
   ]
  },
  {
   "cell_type": "markdown",
   "metadata": {},
   "source": [
    "### A classe `Kalah` que representa um Jogo\n",
    "A classe `Kalah` (em `Kalah.py`) é a subclasse de `Game`, que recebe os mesmos 2 argumentos que `KalahState`, gerando a instância desta última classe para inicializar o seu atributo `initial`, onde se guarda a representação do tabuleiro inicial e do jogador que começa, bem como a indicação que o primeiro lance não será uma 'passagem' de vez.\n",
    "\n",
    "Teremos os métodos habituais:\n",
    "* `actions`: que devolve a lista de acções para um determinado estado.\n",
    "* `result`: que devolve o estado que resulta da aplicação de uma acção a um outro estado.\n",
    "* `terminal_test`: que verifica se o jogo acabou ou não.\n",
    "* `utility`: que devolve +1 se ganhou o SUL, -1 se ganhou o NORTE e 0 em caso de empate.\n",
    "* `display`: que apresenta em modo o texto o estado do jogo."
   ]
  },
  {
   "cell_type": "markdown",
   "metadata": {},
   "source": [
    "### Definição de jogadores\n",
    "Vamos ter uma classe para criar diferentes jogadores, indicando o seu nome e a função que utilizam para decidir a jogada e tendo um método `display` associado."
   ]
  },
  {
   "cell_type": "code",
   "execution_count": 6,
   "metadata": {},
   "outputs": [],
   "source": [
    "class Jogador():\n",
    "    def __init__(self, nome, fun):\n",
    "        self.nome = nome\n",
    "        self.fun = fun\n",
    "    def display(self):\n",
    "        print(self.nome+\" \")\n",
    "        "
   ]
  },
  {
   "cell_type": "markdown",
   "metadata": {},
   "source": [
    "#### O jogador aleatório\n",
    "<img src=\"Imagens/diceArt.gif\" alt=\"Drawing\" style=\"width: 200px;\"/>\n",
    "\n",
    "Eis a classe dos jogadores aleatórios, que escolhem uma das acções ao acaso."
   ]
  },
  {
   "cell_type": "code",
   "execution_count": 7,
   "metadata": {},
   "outputs": [],
   "source": [
    "class JogadorAleat(Jogador):\n",
    "    def __init__(self, nome):\n",
    "        self.nome = nome\n",
    "        self.fun = lambda game, state: random.choice(game.actions(state)) "
   ]
  },
  {
   "cell_type": "markdown",
   "metadata": {},
   "source": [
    "### Função que realiza um jogo entre 2 jogadores\n",
    "Eis uma função que recebe uma instância de `Game`, dois jogadores e a flag `verbose` para indicar se queremos ver ou não o traço do jogo em modo texto (a False por omissão). Devolve uma lista com o par de jogadores que jogou, a lista ordenada de jogadas e o resultado final, mostrando o nome do jogador vencedor ou 'Empate' em caso de empate. "
   ]
  },
  {
   "cell_type": "code",
   "execution_count": 8,
   "metadata": {},
   "outputs": [],
   "source": [
    "##########  para ser independente dos jogos deveria devolver um método em string ou um atributo\n",
    "def joga11(game, jog1, jog2,verbose=False):\n",
    "    ### jog1 e jog2 são jogadores com funções que dado um estado do jogo devolvem a jogada que escolheram\n",
    "    ### devolve o par de jogadores, a lista de jogadas e o resultado\n",
    "    estado=game.initial\n",
    "    proxjog = jog1\n",
    "    lista_jogadas=[]\n",
    "    lance = 0\n",
    "    while not game.terminal_test(estado):\n",
    "        if verbose:\n",
    "            print('----------   LANCE:',lance)\n",
    "            game.display(estado)\n",
    "        jogada = proxjog.fun(game, estado)\n",
    "        if verbose:\n",
    "            print('JOGADA=',jogada)\n",
    "        estado=game.result(estado,jogada)\n",
    "        lista_jogadas.append(jogada)\n",
    "        proxjog = jog2 if proxjog == jog1 else jog1\n",
    "        lance+=1\n",
    "    #p jogou e ganhou\n",
    "    util=game.utility(estado,0)\n",
    "    if util == 1:\n",
    "        resultado=jog1.nome\n",
    "    elif util== -1:\n",
    "        resultado = jog2.nome\n",
    "    else:\n",
    "        resultado='Empate'\n",
    "    return ((jog1.nome,jog2.nome),lista_jogadas,resultado)"
   ]
  },
  {
   "cell_type": "markdown",
   "metadata": {},
   "source": [
    "Vamos realizar um jogo entre dois jogadores aleatórios: El Caos e La Entropia, com o modo `verbose` a False. Podem colocá-lo a True se qusierem ver a evolução do jogo."
   ]
  },
  {
   "cell_type": "code",
   "execution_count": 9,
   "metadata": {},
   "outputs": [
    {
     "data": {
      "text/plain": [
       "(('El Caos', 'La Entropia'),\n",
       " [4,\n",
       "  10,\n",
       "  5,\n",
       "  10,\n",
       "  2,\n",
       "  -1,\n",
       "  1,\n",
       "  11,\n",
       "  2,\n",
       "  9,\n",
       "  -1,\n",
       "  10,\n",
       "  4,\n",
       "  11,\n",
       "  -1,\n",
       "  7,\n",
       "  3,\n",
       "  10,\n",
       "  1,\n",
       "  9,\n",
       "  0,\n",
       "  -1,\n",
       "  4,\n",
       "  -1,\n",
       "  2,\n",
       "  10,\n",
       "  3,\n",
       "  8,\n",
       "  5,\n",
       "  7,\n",
       "  4,\n",
       "  10,\n",
       "  1,\n",
       "  8,\n",
       "  3,\n",
       "  11,\n",
       "  5,\n",
       "  -1,\n",
       "  1,\n",
       "  9,\n",
       "  -1,\n",
       "  12,\n",
       "  2,\n",
       "  10,\n",
       "  3,\n",
       "  -1,\n",
       "  5,\n",
       "  7,\n",
       "  4,\n",
       "  8,\n",
       "  0,\n",
       "  9,\n",
       "  -1,\n",
       "  7,\n",
       "  5,\n",
       "  -1,\n",
       "  1,\n",
       "  12,\n",
       "  3,\n",
       "  11,\n",
       "  0,\n",
       "  10,\n",
       "  2,\n",
       "  11,\n",
       "  3,\n",
       "  12,\n",
       "  5,\n",
       "  -1,\n",
       "  0,\n",
       "  7],\n",
       " 'El Caos')"
      ]
     },
     "execution_count": 9,
     "metadata": {},
     "output_type": "execute_result"
    }
   ],
   "source": [
    "el_caos=JogadorAleat('El Caos')\n",
    "la_entropia=JogadorAleat('La Entropia')\n",
    "mx = Kalah(20)\n",
    "joga11(mx, el_caos, la_entropia)"
   ]
  },
  {
   "cell_type": "markdown",
   "metadata": {},
   "source": [
    "### O Jogador Alfabeta Minimax\n",
    "Vamos criar a subclasse de `jogador` para usarmos com todos os jogadores que usam o minimax alfabeta com profundidade limitada (utiliza a função `alphabeta_cutoff_search_new` definida em `jogos.py`). "
   ]
  },
  {
   "cell_type": "code",
   "execution_count": 10,
   "metadata": {},
   "outputs": [],
   "source": [
    "class JogadorAlfaBeta(Jogador):\n",
    "    def __init__(self, nome, depth,fun_eval):\n",
    "        self.nome = nome\n",
    "        self.fun = lambda game, state: alphabeta_cutoff_search_new(state,game,depth,eval_fn=fun_eval)"
   ]
  },
  {
   "cell_type": "markdown",
   "metadata": {},
   "source": [
    "### Jogador El Caos Inteligente\n",
    "Vamos definir a função de avaliação de um jogador que, se vir o fim do jogo, avalia-o bem: como derrota (-100), vitória (+100) ou empate (0). Devolve também 0 no caso de estar perante um tabuleiro não terminal. É aleatório porque a função \n",
    "`alphabeta_cutoff_search_new`baralha aleatoriamente as jogadas do jogador que está a decidir a jogada.\n",
    "\n",
    "Comecemos pela função de avaliação."
   ]
  },
  {
   "cell_type": "code",
   "execution_count": 11,
   "metadata": {},
   "outputs": [],
   "source": [
    "def f_caos_intel(estado,jogador):\n",
    "    \"\"\"Quando é terminal: +100 para vitória, -100 para a derrota e 0 para o empate.\n",
    "       Quando o tabuleiro é não terminal devolve 0, o que quer dizer que como o minimax baralha as acções, será random\"\"\"\n",
    "    if estado.is_game_over():\n",
    "        aux = estado.result()\n",
    "        return aux*100 if jogador == estado.SOUTH else aux*-100\n",
    "    return 0"
   ]
  },
  {
   "cell_type": "markdown",
   "metadata": {},
   "source": [
    "Criemos o jogador para uma profundidade 6:"
   ]
  },
  {
   "cell_type": "code",
   "execution_count": 12,
   "metadata": {},
   "outputs": [],
   "source": [
    "el_caos_int6=JogadorAlfaBeta(\"El Caos Inteligente 6\",6,f_caos_intel)"
   ]
  },
  {
   "cell_type": "markdown",
   "metadata": {},
   "source": [
    "Joguemos um jogo kalah justo (neste caso, o de índice 20) entre estas duas variantes do jogador aleatório e mostremos o resultado (repitam, porque há muita aleatoriedade nestes jogadores)."
   ]
  },
  {
   "cell_type": "code",
   "execution_count": 13,
   "metadata": {},
   "outputs": [
    {
     "data": {
      "text/plain": [
       "'El Caos Inteligente 6'"
      ]
     },
     "execution_count": 13,
     "metadata": {},
     "output_type": "execute_result"
    }
   ],
   "source": [
    "el_caos=JogadorAleat('El Caos')\n",
    "mx = Kalah(20)\n",
    "_,_,res=joga11(mx, el_caos_int6,el_caos)\n",
    "res"
   ]
  },
  {
   "cell_type": "markdown",
   "metadata": {},
   "source": [
    "### N Pares de jogos\n",
    "Vejamos uma função que realiza $N$ pares de jogos entre dois jogadores, $N$ jogos como SUL e $N$ como NORTE. Devolve um tuplo com 4 elementos: o número de vitórias de cada um e de empates quando o primeiro é SUL e o segundo NORTE, o nº de vitórias de cada um e de empates quando os papeís se invertem, o nº total de vitórias de cada um e de empates e finalmente o score de cada um. A pontuação depende da tabela de `scores`, que neste caso indica que a vitória vale $3$, a derrota $0$ e o empate $1$. É a mesma escala que iremos utilizar no torneio."
   ]
  },
  {
   "cell_type": "code",
   "execution_count": 14,
   "metadata": {},
   "outputs": [],
   "source": [
    "scores={'Vitoria': 3, 'Empate': 1}\n",
    "\n",
    "def traduzPontos(tabela):\n",
    "    tabelaScore={}\n",
    "    empates=tabela['Empate']\n",
    "    for x in tabela:\n",
    "        if x != 'Empate':\n",
    "            tabelaScore[x]=scores['Vitoria']*tabela[x]+empates\n",
    "    return tabelaScore\n",
    "\n",
    "def jogaNpares(jogo,n,jog1,jog2):\n",
    "    tabelaPrim={jog1.nome:0, jog2.nome:0, 'Empate':0}\n",
    "    tabelaSeg={jog1.nome:0, jog2.nome:0, 'Empate':0}\n",
    "    tabela={}\n",
    "    for _ in range(n):\n",
    "        _,_,vencedor=joga11(jogo,jog1,jog2)\n",
    "        tabelaPrim[vencedor]+=1\n",
    "        _,_,vencedor=joga11(jogo,jog2,jog1)\n",
    "        tabelaSeg[vencedor]+=1\n",
    "    for x in tabelaPrim:\n",
    "        tabela[x]=tabelaPrim[x]+tabelaSeg[x]\n",
    "    return tabelaPrim,tabelaSeg,tabela,traduzPontos(tabela)"
   ]
  },
  {
   "cell_type": "markdown",
   "metadata": {},
   "source": [
    "Façamos 300 pares de jogos entre o El Caos e o El Caos Inteligente 6 e vejemos a pontuação final para confirmar que a capacidade de procurar a vitória e evitar a derrota compensa, mesmo quando se joga aleatoriamente quando no horizonte não se vislumbram os estados finais. Usemos o kalah justo com nº 10"
   ]
  },
  {
   "cell_type": "code",
   "execution_count": 15,
   "metadata": {},
   "outputs": [
    {
     "data": {
      "text/plain": [
       "({'El Caos': 88, 'El Caos Inteligente 6': 193, 'Empate': 19},\n",
       " {'El Caos': 124, 'El Caos Inteligente 6': 160, 'Empate': 16},\n",
       " {'El Caos': 212, 'El Caos Inteligente 6': 353, 'Empate': 35},\n",
       " {'El Caos': 671, 'El Caos Inteligente 6': 1094})"
      ]
     },
     "execution_count": 15,
     "metadata": {},
     "output_type": "execute_result"
    }
   ],
   "source": [
    "jogo=Kalah(10)\n",
    "jogaNpares(jogo,300,el_caos,el_caos_int6)"
   ]
  },
  {
   "cell_type": "markdown",
   "metadata": {},
   "source": [
    "### Função para Torneio entre vários jogadores\n",
    "Eis a função que realiza um torneio entre vários jogadores. Queremos que cada um realize um número $N$ de jogos contra todos os outros como SUL, para um dado Kalah justo e a uma certa profundidade. Na prática, todos realizam um nº $N$ de jogos contra todos os outros, tanto no papel de 'SUL' como no papel de 'NORTE'."
   ]
  },
  {
   "cell_type": "code",
   "execution_count": 16,
   "metadata": {},
   "outputs": [],
   "source": [
    "def incorpora(tabela,tx):\n",
    "    for jog in tx:\n",
    "        if jog not in tabela:\n",
    "            tabela[jog]=tx[jog]\n",
    "        else:\n",
    "            tabela[jog]+=tx[jog]\n",
    "    \n",
    "def torneio(n,jogadores,jogo_id=0):\n",
    "    jogo=Kalah(jogo_id)  # jogo gerado ao calha entre os \"justos\"\n",
    "    tabela={}\n",
    "    for i in range(len(jogadores)-1):\n",
    "        jog1=jogadores[i]\n",
    "        for j in range(i+1,len(jogadores)):\n",
    "            jog2=jogadores[j]\n",
    "            _,_,_,tabelaX = jogaNpares(jogo,n,jog1,jog2)\n",
    "            incorpora(tabela,tabelaX)\n",
    "    return tabela"
   ]
  },
  {
   "cell_type": "markdown",
   "metadata": {},
   "source": [
    "Criemos o El Caos Inteligente mas com uma visão a nível 3. "
   ]
  },
  {
   "cell_type": "code",
   "execution_count": 17,
   "metadata": {},
   "outputs": [],
   "source": [
    "el_caos_int3=JogadorAlfaBeta(\"El Caos Inteligente 3\",3,f_caos_intel)"
   ]
  },
  {
   "cell_type": "markdown",
   "metadata": {},
   "source": [
    "Façamos um torneio com os 3 jogadores, para o kalah justo nº 100 bem como 100 pares de jogos entre eles"
   ]
  },
  {
   "cell_type": "code",
   "execution_count": 18,
   "metadata": {},
   "outputs": [
    {
     "data": {
      "text/plain": [
       "{'El Caos': 474, 'El Caos Inteligente 6': 667, 'El Caos Inteligente 3': 633}"
      ]
     },
     "execution_count": 18,
     "metadata": {},
     "output_type": "execute_result"
    }
   ],
   "source": [
    "torneio(100,[el_caos,el_caos_int6,el_caos_int3],100)"
   ]
  },
  {
   "cell_type": "markdown",
   "metadata": {},
   "source": [
    "### <span style=\"color:blue\"> ***Chapiteau***</span>\n",
    "<img src=\"Imagens\\chapiteau_superman.gif\" alt=\"Drawing\" style=\"width: 150px;\"/>\n",
    "\n",
    "Deixamos que implementem o jogador <span style=\"color:blue\"> ***Chapiteau***. </span> pois já o descrevemos de forma límpida. O gif com o super-homem é apenas para assustar porque na verdade <span style=\"color:blue\"> ***Chapiteau***. </span> não é nada super."
   ]
  },
  {
   "cell_type": "markdown",
   "metadata": {},
   "source": [
    "## As funções de Avaliação\n",
    "Terão de criar uma função de avaliação que recebe como input uma instância de `KalahState` e do jogador (0 se for SUL ou 1 se for NORTE).\n",
    "\n",
    "### Nomes uniformes para os jogadores:\n",
    "Para fazermos o torneio entre todos, é preciso uniformizar os nomes dos jogadores.\n",
    "\n",
    "Todas as funções de avaliação e especialmente as seleccionadas para serem utilizadas no torneio terão que ter nomes uniformes, com a assinatura do grupo (XX substituído pelo número do grupo).\n",
    "\n",
    "***func_XX(estado,jogador)***: que devolve o valor estimado do `estado` na perspectiva do `jogador` do grupo XX. "
   ]
  },
  {
   "cell_type": "markdown",
   "metadata": {},
   "source": [
    "## Campeonato\n",
    "No torneio que vamos realizar, em formato de campeonato, cada um dos jogadores jogará contra cada um de todos os outros um nº $N$ de jogos como SUL, para pelo menos 4 limites diferentes de profundidade para o alfabeta, metade deles de ordem par e a outra metade de ordem ímpar.\n",
    "Não podemos esquecer que além dos jogadores dos vários grupos, teremos a participação do <span style=\"color:blue\"> ***Chapiteau***</span>.\n",
    "\n",
    "\n",
    "### Pontuação de cada grupo\n",
    "A pontuação final do campeonato é calculada com base na pontuação final de cada grupo, que corresponde ao\n",
    "\n",
    "**somatório da pontuação obtida em todos os jogos em que a vitória vale 3, o empate vale 1 e a derrota 0**.\n",
    "\n",
    "\n",
    "***Timeout:*** No caso de um dos jogadores ultrapassar o tempo limite para uma jogada será desclassificado. Usaremos bom senso para definir o que é o tempo que consideraremos como limite. Principalmente é fundamental não atrapalhar a execução do torneio múltiplo."
   ]
  },
  {
   "cell_type": "markdown",
   "metadata": {},
   "source": [
    "## Código a não ser alterado\n",
    "<span style=\"color:red\"> Não alterem</span> `jogos.py` nem `utils.py` e **não os devem submeter!** Iremos correr os mesmos 2 ficheiros para todos.\n",
    "<br><span style=\"color:red\">Não redefinam</span> funções com o mesmo nome das já existentes em `jogos.py` e `utils.py`\n",
    "<br>O ideal é que <span style=\"color:red\"> todas as vossas funções devem estar etiquetadas com a assinatura do grupo: o sufixo _XX, para que não se partilhe nem se sobreponha código.</span>"
   ]
  },
  {
   "cell_type": "markdown",
   "metadata": {},
   "source": [
    "## Avaliação\n",
    "A nota do vosso projecto depende apenas da pontuação final do torneio múltiplo.\n",
    "   \n",
    "**Torneio**: No torneio, em formato campeonato, como já dissermos, vamos incluir o nosso jogador <span style=\"color:blue\"> ***Chapiteau***</span>,  Quem tiver a mesma pontuação total do torneio que o <span style=\"color:blue\"> ***Chapiteau***</span> terá 10 valores. Quem tiver um score total inferior ao nosso jogador terá, naturalmente, negativa (nota menor do que 10) nesta componente. A nota será resultado da aplicação de uma função linear baseada no rank no campenato, tanto acima do <span style=\"color:blue\"> ***Chapiteau***</span> como para baixo. O grupo que ficar em primeiro lugar acima do <span style=\"color:blue\"> ***Chapiteau***</span> terá 20 valores.\n",
    "\n",
    "**IMPORTANTE**: Qualquer função de avaliação que seja um clone do <span style=\"color:blue\"> ***Chapiteau***</span> será desclassificado e ficará com nota 0."
   ]
  },
  {
   "cell_type": "markdown",
   "metadata": {},
   "source": [
    "### Entrega\n",
    "Devem entregar um ficheiro ***IIA2324-proj2-jog-XX.py***, com o código com a função pedida e que vamos executar no torneio (incluindo eventuais funções auxiliares)."
   ]
  },
  {
   "cell_type": "markdown",
   "metadata": {},
   "source": [
    "## Prazo\n",
    "\n",
    "<img src=\"Imagens/chessPiscina.jpg\" alt=\"Drawing\" style=\"width: 250px;\"/>\n",
    "\n",
    "Até ao dia **14 de Novembro** às 23:59\n",
    "\n",
    "### Penalizações\n",
    "    - Entregue nas 3hs seguintes: sem penalização\n",
    "    - A partir das 3h e até às 12h do dia seguinte: 20% de penalização\n",
    "    - Não é aceite a partir das 12h do dia seguinte."
   ]
  }
 ],
 "metadata": {
  "colab": {
   "collapsed_sections": [],
   "name": "Untitled0.ipynb",
   "provenance": [],
   "version": "0.3.2"
  },
  "kernelspec": {
   "display_name": "Python 3",
   "language": "python",
   "name": "python3"
  },
  "language_info": {
   "codemirror_mode": {
    "name": "ipython",
    "version": 3
   },
   "file_extension": ".py",
   "mimetype": "text/x-python",
   "name": "python",
   "nbconvert_exporter": "python",
   "pygments_lexer": "ipython3",
   "version": "3.9.13"
  }
 },
 "nbformat": 4,
 "nbformat_minor": 2
}
